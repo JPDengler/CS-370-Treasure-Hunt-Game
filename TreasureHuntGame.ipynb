{
 "cells": [
  {
   "cell_type": "markdown",
   "metadata": {},
   "source": [
    "# Treasure Hunt Game Notebook\n",
    "\n",
    "## Read and Review Your Starter Code\n",
    "The theme of this project is a popular treasure hunt game in which the player needs to find the treasure before the pirate does. While you will not be developing the entire game, you will write the part of the game that represents the intelligent agent, which is a pirate in this case. The pirate will try to find the optimal path to the treasure using deep Q-learning. \n",
    "\n",
    "You have been provided with two Python classes and this notebook to help you with this assignment. The first class, TreasureMaze.py, represents the environment, which includes a maze object defined as a matrix. The second class, GameExperience.py, stores the episodes – that is, all the states that come in between the initial state and the terminal state. This is later used by the agent for learning by experience, called \"exploration\". This notebook shows how to play a game. Your task is to complete the deep Q-learning implementation for which a skeleton implementation has been provided. The code blocks you will need to complete has #TODO as a header.\n",
    "\n",
    "First, read and review the next few code and instruction blocks to understand the code that you have been given."
   ]
  },
  {
   "cell_type": "code",
   "execution_count": 13,
   "metadata": {},
   "outputs": [],
   "source": [
    "from __future__ import print_function\n",
    "import os, sys, time, datetime, json, random\n",
    "import numpy as np\n",
    "from keras.models import Sequential\n",
    "from keras.layers.core import Dense, Activation\n",
    "from keras.optimizers import SGD , Adam, RMSprop\n",
    "from keras.layers.advanced_activations import PReLU\n",
    "import matplotlib.pyplot as plt\n",
    "from TreasureMaze import TreasureMaze\n",
    "from GameExperience import GameExperience\n",
    "%matplotlib inline"
   ]
  },
  {
   "cell_type": "markdown",
   "metadata": {},
   "source": [
    "The following code block contains an 8x8 matrix that will be used as a maze object:"
   ]
  },
  {
   "cell_type": "code",
   "execution_count": 14,
   "metadata": {},
   "outputs": [],
   "source": [
    "maze = np.array([\n",
    "    [ 1.,  0.,  1.,  1.,  1.,  1.,  1.,  1.],\n",
    "    [ 1.,  0.,  1.,  1.,  1.,  0.,  1.,  1.],\n",
    "    [ 1.,  1.,  1.,  1.,  0.,  1.,  0.,  1.],\n",
    "    [ 1.,  1.,  1.,  0.,  1.,  1.,  1.,  1.],\n",
    "    [ 1.,  1.,  0.,  1.,  1.,  1.,  1.,  1.],\n",
    "    [ 1.,  1.,  1.,  0.,  1.,  0.,  0.,  0.],\n",
    "    [ 1.,  1.,  1.,  0.,  1.,  1.,  1.,  1.],\n",
    "    [ 1.,  1.,  1.,  1.,  0.,  1.,  1.,  1.]\n",
    "])"
   ]
  },
  {
   "cell_type": "markdown",
   "metadata": {},
   "source": [
    "This helper function allows a visual representation of the maze object:"
   ]
  },
  {
   "cell_type": "code",
   "execution_count": 15,
   "metadata": {},
   "outputs": [],
   "source": [
    "def show(qmaze):\n",
    "    plt.grid('on')\n",
    "    nrows, ncols = qmaze.maze.shape\n",
    "    ax = plt.gca()\n",
    "    ax.set_xticks(np.arange(0.5, nrows, 1))\n",
    "    ax.set_yticks(np.arange(0.5, ncols, 1))\n",
    "    ax.set_xticklabels([])\n",
    "    ax.set_yticklabels([])\n",
    "    canvas = np.copy(qmaze.maze)\n",
    "    for row,col in qmaze.visited:\n",
    "        canvas[row,col] = 0.6\n",
    "    pirate_row, pirate_col, _ = qmaze.state\n",
    "    canvas[pirate_row, pirate_col] = 0.3   # pirate cell\n",
    "    canvas[nrows-1, ncols-1] = 0.9 # treasure cell\n",
    "    img = plt.imshow(canvas, interpolation='none', cmap='gray')\n",
    "    return img"
   ]
  },
  {
   "cell_type": "markdown",
   "metadata": {},
   "source": [
    "The pirate agent can move in four directions: left, right, up, and down. \n",
    "\n",
    "While the agent primarily learns by experience through exploitation, often, the agent can choose to explore the environment to find previously undiscovered paths. This is called \"exploration\" and is defined by epsilon. This value is typically a lower value such as 0.1, which means for every ten attempts, the agent will attempt to learn by experience nine times and will randomly explore a new path one time. You are encouraged to try various values for the exploration factor and see how the algorithm performs."
   ]
  },
  {
   "cell_type": "code",
   "execution_count": 16,
   "metadata": {},
   "outputs": [],
   "source": [
    "LEFT = 0\n",
    "UP = 1\n",
    "RIGHT = 2\n",
    "DOWN = 3\n",
    "\n",
    "\n",
    "# Exploration factor\n",
    "epsilon = 0.1\n",
    "\n",
    "# Actions dictionary\n",
    "actions_dict = {\n",
    "    LEFT: 'left',\n",
    "    UP: 'up',\n",
    "    RIGHT: 'right',\n",
    "    DOWN: 'down',\n",
    "}\n",
    "\n",
    "num_actions = len(actions_dict)\n"
   ]
  },
  {
   "cell_type": "markdown",
   "metadata": {},
   "source": [
    "The sample code block and output below show creating a maze object and performing one action (DOWN), which returns the reward. The resulting updated environment is visualized."
   ]
  },
  {
   "cell_type": "code",
   "execution_count": 17,
   "metadata": {},
   "outputs": [
    {
     "name": "stdout",
     "output_type": "stream",
     "text": [
      "reward= -0.04\n"
     ]
    },
    {
     "data": {
      "text/plain": [
       "<matplotlib.image.AxesImage at 0x2f4c2bcf708>"
      ]
     },
     "execution_count": 17,
     "metadata": {},
     "output_type": "execute_result"
    },
    {
     "data": {
      "image/png": "[encoded data removed]",
      "text/plain": [
       "<Figure size 432x288 with 1 Axes>"
      ]
     },
     "metadata": {
      "needs_background": "light"
     },
     "output_type": "display_data"
    }
   ],
   "source": [
    "qmaze = TreasureMaze(maze)\n",
    "canvas, reward, game_over = qmaze.act(DOWN)\n",
    "print(\"reward=\", reward)\n",
    "show(qmaze)"
   ]
  },
  {
   "cell_type": "markdown",
   "metadata": {},
   "source": [
    "This function simulates a full game based on the provided trained model. The other parameters include the TreasureMaze object and the starting position of the pirate."
   ]
  },
  {
   "cell_type": "code",
   "execution_count": 18,
   "metadata": {},
   "outputs": [],
   "source": [
    "def play_game(model, qmaze, pirate_cell):\n",
    "    qmaze.reset(pirate_cell)\n",
    "    envstate = qmaze.observe()\n",
    "    while True:\n",
    "        prev_envstate = envstate\n",
    "        # get next action\n",
    "        q = model.predict(prev_envstate)\n",
    "        action = np.argmax(q[0])\n",
    "\n",
    "        # apply action, get rewards and new state\n",
    "        envstate, reward, game_status = qmaze.act(action)\n",
    "        if game_status == 'win':\n",
    "            return True\n",
    "        elif game_status == 'lose':\n",
    "            return False"
   ]
  },
  {
   "cell_type": "markdown",
   "metadata": {},
   "source": [
    "This function helps you to determine whether the pirate can win any game at all. If your maze is not well designed, the pirate may not win any game at all. In this case, your training would not yield any result. The provided maze in this notebook ensures that there is a path to win and you can run this method to check."
   ]
  },
  {
   "cell_type": "code",
   "execution_count": 19,
   "metadata": {},
   "outputs": [],
   "source": [
    "def completion_check(model, qmaze):\n",
    "    for cell in qmaze.free_cells:\n",
    "        if not qmaze.valid_actions(cell):\n",
    "            return False\n",
    "        if not play_game(model, qmaze, cell):\n",
    "            return False\n",
    "    return True"
   ]
  },
  {
   "cell_type": "markdown",
   "metadata": {},
   "source": [
    "The code you have been given in this block will build the neural network model. Review the code and note the number of layers, as well as the activation, optimizer, and loss functions that are used to train the model."
   ]
  },
  {
   "cell_type": "code",
   "execution_count": 20,
   "metadata": {},
   "outputs": [],
   "source": [
    "def build_model(maze):\n",
    "    model = Sequential()\n",
    "    model.add(Dense(maze.size, input_shape=(maze.size,)))\n",
    "    model.add(PReLU())\n",
    "    model.add(Dense(maze.size))\n",
    "    model.add(PReLU())\n",
    "    model.add(Dense(num_actions))\n",
    "    model.compile(optimizer='adam', loss='mse')\n",
    "    return model"
   ]
  },
  {
   "cell_type": "markdown",
   "metadata": {},
   "source": [
    "# #TODO: Complete the Q-Training Algorithm Code Block\n",
    "\n",
    "This is your deep Q-learning implementation. The goal of your deep Q-learning implementation is to find the best possible navigation sequence that results in reaching the treasure cell while maximizing the reward. In your implementation, you need to determine the optimal number of epochs to achieve a 100% win rate.\n",
    "\n",
    "You will need to complete the section starting with #pseudocode. The pseudocode has been included for you."
   ]
  },
  {
   "cell_type": "code",
   "execution_count": 21,
   "metadata": {},
   "outputs": [],
   "source": [
    "def format_time(seconds):\n",
    "    if seconds < 400:\n",
    "        s = float(seconds)\n",
    "        return \"%.1f seconds\" % (s,)\n",
    "    elif seconds < 4000:\n",
    "        m = seconds / 60.0\n",
    "        return \"%.2f minutes\" % (m,)\n",
    "    else:\n",
    "        h = seconds / 3600.0\n",
    "        return \"%.2f hours\" % (h,)\n",
    "\n",
    "def qtrain(model, maze, **opt):\n",
    "    # exploration factor\n",
    "    global epsilon \n",
    "    \n",
    "    # number of epochs\n",
    "    n_epoch = opt.get('n_epoch', 15000)\n",
    "    \n",
    "    # maximum memory to store episodes\n",
    "    max_memory = opt.get('max_memory', 1000)\n",
    "    \n",
    "    # maximum data size for training\n",
    "    data_size = opt.get('data_size', 50)\n",
    "    \n",
    "    # start time\n",
    "    start_time = datetime.datetime.now()\n",
    "    \n",
    "    # Construct environment/game from numpy array: maze\n",
    "    qmaze = TreasureMaze(maze)\n",
    "    \n",
    "    # Initialize experience replay object\n",
    "    experience = GameExperience(model, max_memory=max_memory)\n",
    "    \n",
    "    win_history = []   # history of win/lose game\n",
    "    hsize = qmaze.maze.size//2   # history window size\n",
    "    win_rate = 0.0\n",
    "    \n",
    "    for epoch in range(n_epoch):\n",
    "        agent_cell = random.choice(qmaze.free_cells)\n",
    "        qmaze.reset(agent_cell)\n",
    "        envstate = qmaze.observe()\n",
    "        n_episodes = 0\n",
    "        \n",
    "        while qmaze.game_status() == 'not_over':\n",
    "            prev_envstate = envstate\n",
    "            \n",
    "            # Exploration vs exploitation\n",
    "            if np.random.rand() < epsilon:\n",
    "                action = random.choice(qmaze.valid_actions())\n",
    "            else:\n",
    "                q_values = model.predict(prev_envstate)[0]\n",
    "                action = np.argmax(q_values)\n",
    "            \n",
    "            # Apply action, get reward and new state\n",
    "            envstate, reward, game_status = qmaze.act(action)\n",
    "            \n",
    "            # Store episode in memory\n",
    "            episode = [prev_envstate, action, reward, envstate, game_status]\n",
    "            experience.remember(episode)\n",
    "            \n",
    "            # Train the model\n",
    "            inputs, targets = experience.get_data(data_size=data_size)\n",
    "            loss = model.train_on_batch(inputs, targets)\n",
    "            n_episodes += 1\n",
    "        \n",
    "        if game_status == 'win':\n",
    "            win_history.append(1)\n",
    "        else:\n",
    "            win_history.append(0)\n",
    "        \n",
    "        if len(win_history) > hsize:\n",
    "            win_history = win_history[-hsize:]\n",
    "            win_rate = sum(win_history) / hsize\n",
    "        \n",
    "        dt = datetime.datetime.now() - start_time\n",
    "        t = format_time(dt.total_seconds())\n",
    "        template = \"Epoch: {:03d}/{:d} | Loss: {:.4f} | Episodes: {:d} | Win count: {:d} | Win rate: {:.3f} | time: {}\"\n",
    "        print(template.format(epoch, n_epoch-1, loss, n_episodes, sum(win_history), win_rate, t))\n",
    "        \n",
    "        if win_rate > 0.9 : epsilon = 0.05\n",
    "        if sum(win_history[-hsize:]) == hsize and completion_check(model, qmaze):\n",
    "            print(\"Reached 100% win rate at epoch: %d\" % (epoch,))\n",
    "            break\n",
    "    \n",
    "    # Determine the total time for training\n",
    "    dt = datetime.datetime.now() - start_time\n",
    "    seconds = dt.total_seconds()\n",
    "    t = format_time(seconds)\n",
    "    \n",
    "    print(\"n_epoch: %d, max_mem: %d, data: %d, time: %s\" % (epoch, max_memory, data_size, t))\n",
    "    return seconds\n"
   ]
  },
  {
   "cell_type": "markdown",
   "metadata": {},
   "source": [
    "## Test Your Model\n",
    "\n",
    "Now we will start testing the deep Q-learning implementation. To begin, select **Cell**, then **Run All** from the menu bar. This will run your notebook. As it runs, you should see output begin to appear beneath the next few cells. The code below creates an instance of TreasureMaze."
   ]
  },
  {
   "cell_type": "code",
   "execution_count": 22,
   "metadata": {},
   "outputs": [
    {
     "data": {
      "text/plain": [
       "<matplotlib.image.AxesImage at 0x2f4c3d1a6c8>"
      ]
     },
     "execution_count": 22,
     "metadata": {},
     "output_type": "execute_result"
    },
    {
     "data": {
      "image/png": "[encoded data removed]",
      "text/plain": [
       "<Figure size 432x288 with 1 Axes>"
      ]
     },
     "metadata": {
      "needs_background": "light"
     },
     "output_type": "display_data"
    }
   ],
   "source": [
    "qmaze = TreasureMaze(maze)\n",
    "show(qmaze)"
   ]
  },
  {
   "cell_type": "markdown",
   "metadata": {},
   "source": [
    "In the next code block, you will build your model and train it using deep Q-learning. Note: This step takes several minutes to fully run."
   ]
  },
  {
   "cell_type": "code",
   "execution_count": 23,
   "metadata": {},
   "outputs": [
    {
     "name": "stdout",
     "output_type": "stream",
     "text": [
      "Epoch: 000/14999 | Loss: 0.0003 | Episodes: 143 | Win count: 0 | Win rate: 0.000 | time: 10.5 seconds\n",
      "Epoch: 001/14999 | Loss: 0.0011 | Episodes: 142 | Win count: 0 | Win rate: 0.000 | time: 20.4 seconds\n",
      "Epoch: 002/14999 | Loss: 0.0009 | Episodes: 141 | Win count: 0 | Win rate: 0.000 | time: 29.7 seconds\n",
      "Epoch: 003/14999 | Loss: 0.0018 | Episodes: 144 | Win count: 0 | Win rate: 0.000 | time: 39.6 seconds\n",
      "Epoch: 004/14999 | Loss: 0.0007 | Episodes: 135 | Win count: 0 | Win rate: 0.000 | time: 48.8 seconds\n",
      "Epoch: 005/14999 | Loss: 0.0003 | Episodes: 139 | Win count: 0 | Win rate: 0.000 | time: 58.4 seconds\n",
      "Epoch: 006/14999 | Loss: 0.0014 | Episodes: 139 | Win count: 0 | Win rate: 0.000 | time: 67.9 seconds\n",
      "Epoch: 007/14999 | Loss: 0.0005 | Episodes: 85 | Win count: 1 | Win rate: 0.000 | time: 73.6 seconds\n",
      "Epoch: 008/14999 | Loss: 0.0008 | Episodes: 144 | Win count: 1 | Win rate: 0.000 | time: 83.7 seconds\n",
      "Epoch: 009/14999 | Loss: 0.0011 | Episodes: 148 | Win count: 1 | Win rate: 0.000 | time: 93.9 seconds\n",
      "Epoch: 010/14999 | Loss: 0.0010 | Episodes: 13 | Win count: 2 | Win rate: 0.000 | time: 94.8 seconds\n",
      "Epoch: 011/14999 | Loss: 0.0116 | Episodes: 28 | Win count: 3 | Win rate: 0.000 | time: 96.9 seconds\n",
      "Epoch: 012/14999 | Loss: 0.0006 | Episodes: 144 | Win count: 3 | Win rate: 0.000 | time: 107.0 seconds\n",
      "Epoch: 013/14999 | Loss: 0.0133 | Episodes: 22 | Win count: 4 | Win rate: 0.000 | time: 108.6 seconds\n",
      "Epoch: 014/14999 | Loss: 0.0013 | Episodes: 1 | Win count: 5 | Win rate: 0.000 | time: 108.7 seconds\n",
      "Epoch: 015/14999 | Loss: 0.0015 | Episodes: 119 | Win count: 6 | Win rate: 0.000 | time: 116.7 seconds\n",
      "Epoch: 016/14999 | Loss: 0.0018 | Episodes: 64 | Win count: 7 | Win rate: 0.000 | time: 120.9 seconds\n",
      "Epoch: 017/14999 | Loss: 0.0011 | Episodes: 124 | Win count: 8 | Win rate: 0.000 | time: 129.9 seconds\n",
      "Epoch: 018/14999 | Loss: 0.0017 | Episodes: 139 | Win count: 8 | Win rate: 0.000 | time: 139.3 seconds\n",
      "Epoch: 019/14999 | Loss: 0.0005 | Episodes: 59 | Win count: 9 | Win rate: 0.000 | time: 143.6 seconds\n",
      "Epoch: 020/14999 | Loss: 0.0091 | Episodes: 134 | Win count: 9 | Win rate: 0.000 | time: 152.7 seconds\n",
      "Epoch: 021/14999 | Loss: 0.0016 | Episodes: 137 | Win count: 9 | Win rate: 0.000 | time: 161.7 seconds\n",
      "Epoch: 022/14999 | Loss: 0.0010 | Episodes: 2 | Win count: 10 | Win rate: 0.000 | time: 161.9 seconds\n",
      "Epoch: 023/14999 | Loss: 0.0012 | Episodes: 137 | Win count: 10 | Win rate: 0.000 | time: 171.1 seconds\n",
      "Epoch: 024/14999 | Loss: 0.0006 | Episodes: 137 | Win count: 10 | Win rate: 0.000 | time: 181.2 seconds\n",
      "Epoch: 025/14999 | Loss: 0.0011 | Episodes: 14 | Win count: 11 | Win rate: 0.000 | time: 182.3 seconds\n",
      "Epoch: 026/14999 | Loss: 0.0003 | Episodes: 135 | Win count: 11 | Win rate: 0.000 | time: 191.9 seconds\n",
      "Epoch: 027/14999 | Loss: 0.0012 | Episodes: 9 | Win count: 12 | Win rate: 0.000 | time: 192.6 seconds\n",
      "Epoch: 028/14999 | Loss: 0.0008 | Episodes: 101 | Win count: 13 | Win rate: 0.000 | time: 200.0 seconds\n",
      "Epoch: 029/14999 | Loss: 0.0009 | Episodes: 13 | Win count: 14 | Win rate: 0.000 | time: 200.9 seconds\n",
      "Epoch: 030/14999 | Loss: 0.0001 | Episodes: 2 | Win count: 15 | Win rate: 0.000 | time: 201.0 seconds\n",
      "Epoch: 031/14999 | Loss: 0.0016 | Episodes: 1 | Win count: 16 | Win rate: 0.000 | time: 201.1 seconds\n",
      "Epoch: 032/14999 | Loss: 0.0023 | Episodes: 136 | Win count: 16 | Win rate: 0.500 | time: 210.9 seconds\n",
      "Epoch: 033/14999 | Loss: 0.0016 | Episodes: 149 | Win count: 16 | Win rate: 0.500 | time: 221.5 seconds\n",
      "Epoch: 034/14999 | Loss: 0.0016 | Episodes: 137 | Win count: 16 | Win rate: 0.500 | time: 231.0 seconds\n",
      "Epoch: 035/14999 | Loss: 0.0031 | Episodes: 3 | Win count: 17 | Win rate: 0.531 | time: 231.2 seconds\n",
      "Epoch: 036/14999 | Loss: 0.0024 | Episodes: 1 | Win count: 18 | Win rate: 0.562 | time: 231.3 seconds\n",
      "Epoch: 037/14999 | Loss: 0.0009 | Episodes: 153 | Win count: 18 | Win rate: 0.562 | time: 242.4 seconds\n",
      "Epoch: 038/14999 | Loss: 0.0016 | Episodes: 18 | Win count: 19 | Win rate: 0.594 | time: 243.6 seconds\n",
      "Epoch: 039/14999 | Loss: 0.0014 | Episodes: 101 | Win count: 19 | Win rate: 0.594 | time: 250.8 seconds\n",
      "Epoch: 040/14999 | Loss: 0.0008 | Episodes: 117 | Win count: 20 | Win rate: 0.625 | time: 258.6 seconds\n",
      "Epoch: 041/14999 | Loss: 0.0015 | Episodes: 106 | Win count: 21 | Win rate: 0.656 | time: 265.6 seconds\n",
      "Epoch: 042/14999 | Loss: 0.0015 | Episodes: 57 | Win count: 21 | Win rate: 0.656 | time: 269.5 seconds\n",
      "Epoch: 043/14999 | Loss: 0.0021 | Episodes: 52 | Win count: 21 | Win rate: 0.656 | time: 273.2 seconds\n",
      "Epoch: 044/14999 | Loss: 0.0014 | Episodes: 3 | Win count: 22 | Win rate: 0.688 | time: 273.4 seconds\n",
      "Epoch: 045/14999 | Loss: 0.0019 | Episodes: 30 | Win count: 22 | Win rate: 0.688 | time: 275.5 seconds\n",
      "Epoch: 046/14999 | Loss: 0.0022 | Episodes: 27 | Win count: 22 | Win rate: 0.688 | time: 277.4 seconds\n",
      "Epoch: 047/14999 | Loss: 0.0020 | Episodes: 9 | Win count: 22 | Win rate: 0.688 | time: 278.0 seconds\n",
      "Epoch: 048/14999 | Loss: 0.0017 | Episodes: 25 | Win count: 22 | Win rate: 0.688 | time: 279.8 seconds\n",
      "Epoch: 049/14999 | Loss: 0.0018 | Episodes: 53 | Win count: 22 | Win rate: 0.688 | time: 284.0 seconds\n",
      "Epoch: 050/14999 | Loss: 0.0016 | Episodes: 143 | Win count: 22 | Win rate: 0.688 | time: 293.7 seconds\n",
      "Epoch: 051/14999 | Loss: 0.0021 | Episodes: 12 | Win count: 22 | Win rate: 0.688 | time: 294.5 seconds\n",
      "Epoch: 052/14999 | Loss: 0.0012 | Episodes: 88 | Win count: 23 | Win rate: 0.719 | time: 301.2 seconds\n",
      "Epoch: 053/14999 | Loss: 0.0014 | Episodes: 17 | Win count: 24 | Win rate: 0.750 | time: 302.5 seconds\n",
      "Epoch: 054/14999 | Loss: 0.0015 | Episodes: 1 | Win count: 24 | Win rate: 0.750 | time: 302.6 seconds\n",
      "Epoch: 055/14999 | Loss: 0.0007 | Episodes: 144 | Win count: 24 | Win rate: 0.750 | time: 313.4 seconds\n",
      "Epoch: 056/14999 | Loss: 0.0011 | Episodes: 10 | Win count: 25 | Win rate: 0.781 | time: 314.1 seconds\n",
      "Epoch: 057/14999 | Loss: 0.0011 | Episodes: 22 | Win count: 25 | Win rate: 0.781 | time: 315.7 seconds\n",
      "Epoch: 058/14999 | Loss: 0.0010 | Episodes: 110 | Win count: 26 | Win rate: 0.812 | time: 323.6 seconds\n",
      "Epoch: 059/14999 | Loss: 0.0011 | Episodes: 11 | Win count: 26 | Win rate: 0.812 | time: 324.5 seconds\n",
      "Epoch: 060/14999 | Loss: 0.0009 | Episodes: 142 | Win count: 25 | Win rate: 0.781 | time: 334.6 seconds\n",
      "Epoch: 061/14999 | Loss: 0.0012 | Episodes: 15 | Win count: 25 | Win rate: 0.781 | time: 335.6 seconds\n",
      "Epoch: 062/14999 | Loss: 0.0011 | Episodes: 14 | Win count: 25 | Win rate: 0.781 | time: 336.7 seconds\n",
      "Epoch: 063/14999 | Loss: 0.0012 | Episodes: 11 | Win count: 25 | Win rate: 0.781 | time: 337.6 seconds\n",
      "Epoch: 064/14999 | Loss: 0.0012 | Episodes: 139 | Win count: 25 | Win rate: 0.781 | time: 347.4 seconds\n",
      "Epoch: 065/14999 | Loss: 0.0012 | Episodes: 144 | Win count: 25 | Win rate: 0.781 | time: 357.5 seconds\n",
      "Epoch: 066/14999 | Loss: 0.0011 | Episodes: 138 | Win count: 25 | Win rate: 0.781 | time: 366.8 seconds\n",
      "Epoch: 067/14999 | Loss: 0.0014 | Episodes: 53 | Win count: 25 | Win rate: 0.781 | time: 370.6 seconds\n",
      "Epoch: 068/14999 | Loss: 0.0007 | Episodes: 11 | Win count: 25 | Win rate: 0.781 | time: 371.5 seconds\n",
      "Epoch: 069/14999 | Loss: 0.0008 | Episodes: 10 | Win count: 26 | Win rate: 0.812 | time: 372.3 seconds\n",
      "Epoch: 070/14999 | Loss: 0.0008 | Episodes: 1 | Win count: 26 | Win rate: 0.812 | time: 372.3 seconds\n",
      "Epoch: 071/14999 | Loss: 0.0008 | Episodes: 142 | Win count: 25 | Win rate: 0.781 | time: 382.7 seconds\n",
      "Epoch: 072/14999 | Loss: 0.0020 | Episodes: 2 | Win count: 25 | Win rate: 0.781 | time: 382.8 seconds\n",
      "Epoch: 073/14999 | Loss: 0.0009 | Episodes: 80 | Win count: 25 | Win rate: 0.781 | time: 388.5 seconds\n",
      "Epoch: 074/14999 | Loss: 0.0013 | Episodes: 2 | Win count: 25 | Win rate: 0.781 | time: 388.6 seconds\n",
      "Epoch: 075/14999 | Loss: 0.0021 | Episodes: 53 | Win count: 25 | Win rate: 0.781 | time: 392.2 seconds\n",
      "Epoch: 076/14999 | Loss: 0.0015 | Episodes: 74 | Win count: 25 | Win rate: 0.781 | time: 397.2 seconds\n",
      "Epoch: 077/14999 | Loss: 0.0016 | Episodes: 40 | Win count: 25 | Win rate: 0.781 | time: 6.67 minutes\n",
      "Epoch: 078/14999 | Loss: 0.0011 | Episodes: 24 | Win count: 25 | Win rate: 0.781 | time: 6.70 minutes\n",
      "Epoch: 079/14999 | Loss: 0.0012 | Episodes: 21 | Win count: 25 | Win rate: 0.781 | time: 6.72 minutes\n",
      "Epoch: 080/14999 | Loss: 0.0010 | Episodes: 1 | Win count: 25 | Win rate: 0.781 | time: 6.72 minutes\n",
      "Epoch: 081/14999 | Loss: 0.0017 | Episodes: 45 | Win count: 25 | Win rate: 0.781 | time: 6.78 minutes\n",
      "Epoch: 082/14999 | Loss: 0.0017 | Episodes: 1 | Win count: 26 | Win rate: 0.812 | time: 6.78 minutes\n",
      "Epoch: 083/14999 | Loss: 0.0018 | Episodes: 138 | Win count: 25 | Win rate: 0.781 | time: 6.94 minutes\n",
      "Epoch: 084/14999 | Loss: 0.0019 | Episodes: 30 | Win count: 25 | Win rate: 0.781 | time: 6.97 minutes\n",
      "Epoch: 085/14999 | Loss: 0.0014 | Episodes: 32 | Win count: 25 | Win rate: 0.781 | time: 7.01 minutes\n",
      "Epoch: 086/14999 | Loss: 0.0013 | Episodes: 11 | Win count: 25 | Win rate: 0.781 | time: 7.02 minutes\n",
      "Epoch: 087/14999 | Loss: 0.0014 | Episodes: 20 | Win count: 26 | Win rate: 0.812 | time: 7.04 minutes\n",
      "Epoch: 088/14999 | Loss: 0.0011 | Episodes: 25 | Win count: 26 | Win rate: 0.812 | time: 7.08 minutes\n",
      "Epoch: 089/14999 | Loss: 0.0012 | Episodes: 13 | Win count: 26 | Win rate: 0.812 | time: 7.09 minutes\n",
      "Epoch: 090/14999 | Loss: 0.0018 | Episodes: 25 | Win count: 26 | Win rate: 0.812 | time: 7.12 minutes\n",
      "Epoch: 091/14999 | Loss: 0.0006 | Episodes: 30 | Win count: 26 | Win rate: 0.812 | time: 7.16 minutes\n",
      "Epoch: 092/14999 | Loss: 0.0009 | Episodes: 32 | Win count: 27 | Win rate: 0.844 | time: 7.20 minutes\n",
      "Epoch: 093/14999 | Loss: 0.0006 | Episodes: 12 | Win count: 27 | Win rate: 0.844 | time: 7.21 minutes\n",
      "Epoch: 094/14999 | Loss: 0.0012 | Episodes: 67 | Win count: 27 | Win rate: 0.844 | time: 7.29 minutes\n",
      "Epoch: 095/14999 | Loss: 0.0010 | Episodes: 24 | Win count: 27 | Win rate: 0.844 | time: 7.32 minutes\n",
      "Epoch: 096/14999 | Loss: 0.0013 | Episodes: 2 | Win count: 28 | Win rate: 0.875 | time: 7.32 minutes\n",
      "Epoch: 097/14999 | Loss: 0.0019 | Episodes: 66 | Win count: 29 | Win rate: 0.906 | time: 7.40 minutes\n",
      "Epoch: 098/14999 | Loss: 0.0010 | Episodes: 14 | Win count: 30 | Win rate: 0.938 | time: 7.42 minutes\n",
      "Epoch: 099/14999 | Loss: 0.0019 | Episodes: 24 | Win count: 30 | Win rate: 0.938 | time: 7.44 minutes\n",
      "Epoch: 100/14999 | Loss: 0.0013 | Episodes: 14 | Win count: 30 | Win rate: 0.938 | time: 7.46 minutes\n",
      "Epoch: 101/14999 | Loss: 0.0010 | Episodes: 3 | Win count: 30 | Win rate: 0.938 | time: 7.46 minutes\n",
      "Epoch: 102/14999 | Loss: 0.0008 | Episodes: 89 | Win count: 30 | Win rate: 0.938 | time: 7.58 minutes\n",
      "Epoch: 103/14999 | Loss: 0.0011 | Episodes: 1 | Win count: 31 | Win rate: 0.969 | time: 7.58 minutes\n",
      "Epoch: 104/14999 | Loss: 0.0011 | Episodes: 17 | Win count: 31 | Win rate: 0.969 | time: 7.60 minutes\n",
      "Epoch: 105/14999 | Loss: 0.0011 | Episodes: 24 | Win count: 31 | Win rate: 0.969 | time: 7.63 minutes\n",
      "Epoch: 106/14999 | Loss: 0.0005 | Episodes: 25 | Win count: 31 | Win rate: 0.969 | time: 7.66 minutes\n",
      "Epoch: 107/14999 | Loss: 0.0018 | Episodes: 16 | Win count: 31 | Win rate: 0.969 | time: 7.68 minutes\n",
      "Epoch: 108/14999 | Loss: 0.0004 | Episodes: 30 | Win count: 31 | Win rate: 0.969 | time: 7.71 minutes\n",
      "Epoch: 109/14999 | Loss: 0.0006 | Episodes: 18 | Win count: 31 | Win rate: 0.969 | time: 7.73 minutes\n",
      "Epoch: 110/14999 | Loss: 0.0005 | Episodes: 17 | Win count: 31 | Win rate: 0.969 | time: 7.75 minutes\n",
      "Epoch: 111/14999 | Loss: 0.0006 | Episodes: 4 | Win count: 31 | Win rate: 0.969 | time: 7.76 minutes\n",
      "Epoch: 112/14999 | Loss: 0.0003 | Episodes: 18 | Win count: 31 | Win rate: 0.969 | time: 7.78 minutes\n",
      "Epoch: 113/14999 | Loss: 0.0005 | Episodes: 38 | Win count: 31 | Win rate: 0.969 | time: 7.83 minutes\n",
      "Epoch: 114/14999 | Loss: 0.0018 | Episodes: 29 | Win count: 31 | Win rate: 0.969 | time: 7.88 minutes\n",
      "Epoch: 115/14999 | Loss: 0.0008 | Episodes: 24 | Win count: 32 | Win rate: 1.000 | time: 7.91 minutes\n",
      "Epoch: 116/14999 | Loss: 0.0009 | Episodes: 28 | Win count: 32 | Win rate: 1.000 | time: 7.95 minutes\n",
      "Epoch: 117/14999 | Loss: 0.0012 | Episodes: 1 | Win count: 32 | Win rate: 1.000 | time: 7.96 minutes\n",
      "Epoch: 118/14999 | Loss: 0.0008 | Episodes: 33 | Win count: 32 | Win rate: 1.000 | time: 8.00 minutes\n",
      "Epoch: 119/14999 | Loss: 0.0009 | Episodes: 17 | Win count: 32 | Win rate: 1.000 | time: 8.02 minutes\n",
      "Epoch: 120/14999 | Loss: 0.0004 | Episodes: 20 | Win count: 32 | Win rate: 1.000 | time: 8.05 minutes\n"
     ]
    },
    {
     "ename": "KeyboardInterrupt",
     "evalue": "",
     "output_type": "error",
     "traceback": [
      "\u001b[1;31m---------------------------------------------------------------------------\u001b[0m",
      "\u001b[1;31mKeyboardInterrupt\u001b[0m                         Traceback (most recent call last)",
      "\u001b[1;32m<ipython-input-23-3f866ecde593>\u001b[0m in \u001b[0;36m<module>\u001b[1;34m\u001b[0m\n\u001b[0;32m      1\u001b[0m \u001b[0mmodel\u001b[0m \u001b[1;33m=\u001b[0m \u001b[0mbuild_model\u001b[0m\u001b[1;33m(\u001b[0m\u001b[0mmaze\u001b[0m\u001b[1;33m)\u001b[0m\u001b[1;33m\u001b[0m\u001b[1;33m\u001b[0m\u001b[0m\n\u001b[1;32m----> 2\u001b[1;33m \u001b[0mqtrain\u001b[0m\u001b[1;33m(\u001b[0m\u001b[0mmodel\u001b[0m\u001b[1;33m,\u001b[0m \u001b[0mmaze\u001b[0m\u001b[1;33m,\u001b[0m \u001b[0mepochs\u001b[0m\u001b[1;33m=\u001b[0m\u001b[1;36m1000\u001b[0m\u001b[1;33m,\u001b[0m \u001b[0mmax_memory\u001b[0m\u001b[1;33m=\u001b[0m\u001b[1;36m8\u001b[0m\u001b[1;33m*\u001b[0m\u001b[0mmaze\u001b[0m\u001b[1;33m.\u001b[0m\u001b[0msize\u001b[0m\u001b[1;33m,\u001b[0m \u001b[0mdata_size\u001b[0m\u001b[1;33m=\u001b[0m\u001b[1;36m32\u001b[0m\u001b[1;33m)\u001b[0m\u001b[1;33m\u001b[0m\u001b[1;33m\u001b[0m\u001b[0m\n\u001b[0m",
      "\u001b[1;32m<ipython-input-21-cd5e110652f5>\u001b[0m in \u001b[0;36mqtrain\u001b[1;34m(model, maze, **opt)\u001b[0m\n\u001b[0;32m     60\u001b[0m \u001b[1;33m\u001b[0m\u001b[0m\n\u001b[0;32m     61\u001b[0m             \u001b[1;31m# Train the model\u001b[0m\u001b[1;33m\u001b[0m\u001b[1;33m\u001b[0m\u001b[1;33m\u001b[0m\u001b[0m\n\u001b[1;32m---> 62\u001b[1;33m             \u001b[0minputs\u001b[0m\u001b[1;33m,\u001b[0m \u001b[0mtargets\u001b[0m \u001b[1;33m=\u001b[0m \u001b[0mexperience\u001b[0m\u001b[1;33m.\u001b[0m\u001b[0mget_data\u001b[0m\u001b[1;33m(\u001b[0m\u001b[0mdata_size\u001b[0m\u001b[1;33m=\u001b[0m\u001b[0mdata_size\u001b[0m\u001b[1;33m)\u001b[0m\u001b[1;33m\u001b[0m\u001b[1;33m\u001b[0m\u001b[0m\n\u001b[0m\u001b[0;32m     63\u001b[0m             \u001b[0mloss\u001b[0m \u001b[1;33m=\u001b[0m \u001b[0mmodel\u001b[0m\u001b[1;33m.\u001b[0m\u001b[0mtrain_on_batch\u001b[0m\u001b[1;33m(\u001b[0m\u001b[0minputs\u001b[0m\u001b[1;33m,\u001b[0m \u001b[0mtargets\u001b[0m\u001b[1;33m)\u001b[0m\u001b[1;33m\u001b[0m\u001b[1;33m\u001b[0m\u001b[0m\n\u001b[0;32m     64\u001b[0m             \u001b[0mn_episodes\u001b[0m \u001b[1;33m+=\u001b[0m \u001b[1;36m1\u001b[0m\u001b[1;33m\u001b[0m\u001b[1;33m\u001b[0m\u001b[0m\n",
      "\u001b[1;32mU:\\GameExperience.py\u001b[0m in \u001b[0;36mget_data\u001b[1;34m(self, data_size)\u001b[0m\n\u001b[0;32m     44\u001b[0m             \u001b[0mtargets\u001b[0m\u001b[1;33m[\u001b[0m\u001b[0mi\u001b[0m\u001b[1;33m]\u001b[0m \u001b[1;33m=\u001b[0m \u001b[0mself\u001b[0m\u001b[1;33m.\u001b[0m\u001b[0mpredict\u001b[0m\u001b[1;33m(\u001b[0m\u001b[0menvstate\u001b[0m\u001b[1;33m)\u001b[0m\u001b[1;33m\u001b[0m\u001b[1;33m\u001b[0m\u001b[0m\n\u001b[0;32m     45\u001b[0m             \u001b[1;31m# Q_sa = derived policy = max quality env/action = max_a' Q(s', a')\u001b[0m\u001b[1;33m\u001b[0m\u001b[1;33m\u001b[0m\u001b[1;33m\u001b[0m\u001b[0m\n\u001b[1;32m---> 46\u001b[1;33m             \u001b[0mQ_sa\u001b[0m \u001b[1;33m=\u001b[0m \u001b[0mnp\u001b[0m\u001b[1;33m.\u001b[0m\u001b[0mmax\u001b[0m\u001b[1;33m(\u001b[0m\u001b[0mself\u001b[0m\u001b[1;33m.\u001b[0m\u001b[0mpredict\u001b[0m\u001b[1;33m(\u001b[0m\u001b[0menvstate_next\u001b[0m\u001b[1;33m)\u001b[0m\u001b[1;33m)\u001b[0m\u001b[1;33m\u001b[0m\u001b[1;33m\u001b[0m\u001b[0m\n\u001b[0m\u001b[0;32m     47\u001b[0m             \u001b[1;32mif\u001b[0m \u001b[0mgame_over\u001b[0m\u001b[1;33m:\u001b[0m\u001b[1;33m\u001b[0m\u001b[1;33m\u001b[0m\u001b[0m\n\u001b[0;32m     48\u001b[0m                 \u001b[0mtargets\u001b[0m\u001b[1;33m[\u001b[0m\u001b[0mi\u001b[0m\u001b[1;33m,\u001b[0m \u001b[0maction\u001b[0m\u001b[1;33m]\u001b[0m \u001b[1;33m=\u001b[0m \u001b[0mreward\u001b[0m\u001b[1;33m\u001b[0m\u001b[1;33m\u001b[0m\u001b[0m\n",
      "\u001b[1;32mU:\\GameExperience.py\u001b[0m in \u001b[0;36mpredict\u001b[1;34m(self, envstate)\u001b[0m\n\u001b[0;32m     29\u001b[0m     \u001b[1;31m# Predicts the next action based on the current environment state\u001b[0m\u001b[1;33m\u001b[0m\u001b[1;33m\u001b[0m\u001b[1;33m\u001b[0m\u001b[0m\n\u001b[0;32m     30\u001b[0m     \u001b[1;32mdef\u001b[0m \u001b[0mpredict\u001b[0m\u001b[1;33m(\u001b[0m\u001b[0mself\u001b[0m\u001b[1;33m,\u001b[0m \u001b[0menvstate\u001b[0m\u001b[1;33m)\u001b[0m\u001b[1;33m:\u001b[0m\u001b[1;33m\u001b[0m\u001b[1;33m\u001b[0m\u001b[0m\n\u001b[1;32m---> 31\u001b[1;33m         \u001b[1;32mreturn\u001b[0m \u001b[0mself\u001b[0m\u001b[1;33m.\u001b[0m\u001b[0mmodel\u001b[0m\u001b[1;33m.\u001b[0m\u001b[0mpredict\u001b[0m\u001b[1;33m(\u001b[0m\u001b[0menvstate\u001b[0m\u001b[1;33m)\u001b[0m\u001b[1;33m[\u001b[0m\u001b[1;36m0\u001b[0m\u001b[1;33m]\u001b[0m\u001b[1;33m\u001b[0m\u001b[1;33m\u001b[0m\u001b[0m\n\u001b[0m\u001b[0;32m     32\u001b[0m \u001b[1;33m\u001b[0m\u001b[0m\n\u001b[0;32m     33\u001b[0m     \u001b[1;31m# Returns input and targets from memory, defaults to data size of 10\u001b[0m\u001b[1;33m\u001b[0m\u001b[1;33m\u001b[0m\u001b[1;33m\u001b[0m\u001b[0m\n",
      "\u001b[1;32mC:\\ProgramData\\Anaconda3\\lib\\site-packages\\keras\\engine\\training.py\u001b[0m in \u001b[0;36mpredict\u001b[1;34m(self, x, batch_size, verbose, steps, callbacks, max_queue_size, workers, use_multiprocessing)\u001b[0m\n\u001b[0;32m   1460\u001b[0m                                             \u001b[0mverbose\u001b[0m\u001b[1;33m=\u001b[0m\u001b[0mverbose\u001b[0m\u001b[1;33m,\u001b[0m\u001b[1;33m\u001b[0m\u001b[1;33m\u001b[0m\u001b[0m\n\u001b[0;32m   1461\u001b[0m                                             \u001b[0msteps\u001b[0m\u001b[1;33m=\u001b[0m\u001b[0msteps\u001b[0m\u001b[1;33m,\u001b[0m\u001b[1;33m\u001b[0m\u001b[1;33m\u001b[0m\u001b[0m\n\u001b[1;32m-> 1462\u001b[1;33m                                             callbacks=callbacks)\n\u001b[0m\u001b[0;32m   1463\u001b[0m \u001b[1;33m\u001b[0m\u001b[0m\n\u001b[0;32m   1464\u001b[0m     def train_on_batch(self, x, y,\n",
      "\u001b[1;32mC:\\ProgramData\\Anaconda3\\lib\\site-packages\\keras\\engine\\training_arrays.py\u001b[0m in \u001b[0;36mpredict_loop\u001b[1;34m(model, f, ins, batch_size, verbose, steps, callbacks)\u001b[0m\n\u001b[0;32m    322\u001b[0m             \u001b[0mbatch_logs\u001b[0m \u001b[1;33m=\u001b[0m \u001b[1;33m{\u001b[0m\u001b[1;34m'batch'\u001b[0m\u001b[1;33m:\u001b[0m \u001b[0mbatch_index\u001b[0m\u001b[1;33m,\u001b[0m \u001b[1;34m'size'\u001b[0m\u001b[1;33m:\u001b[0m \u001b[0mlen\u001b[0m\u001b[1;33m(\u001b[0m\u001b[0mbatch_ids\u001b[0m\u001b[1;33m)\u001b[0m\u001b[1;33m}\u001b[0m\u001b[1;33m\u001b[0m\u001b[1;33m\u001b[0m\u001b[0m\n\u001b[0;32m    323\u001b[0m             \u001b[0mcallbacks\u001b[0m\u001b[1;33m.\u001b[0m\u001b[0m_call_batch_hook\u001b[0m\u001b[1;33m(\u001b[0m\u001b[1;34m'predict'\u001b[0m\u001b[1;33m,\u001b[0m \u001b[1;34m'begin'\u001b[0m\u001b[1;33m,\u001b[0m \u001b[0mbatch_index\u001b[0m\u001b[1;33m,\u001b[0m \u001b[0mbatch_logs\u001b[0m\u001b[1;33m)\u001b[0m\u001b[1;33m\u001b[0m\u001b[1;33m\u001b[0m\u001b[0m\n\u001b[1;32m--> 324\u001b[1;33m             \u001b[0mbatch_outs\u001b[0m \u001b[1;33m=\u001b[0m \u001b[0mf\u001b[0m\u001b[1;33m(\u001b[0m\u001b[0mins_batch\u001b[0m\u001b[1;33m)\u001b[0m\u001b[1;33m\u001b[0m\u001b[1;33m\u001b[0m\u001b[0m\n\u001b[0m\u001b[0;32m    325\u001b[0m             \u001b[0mbatch_outs\u001b[0m \u001b[1;33m=\u001b[0m \u001b[0mto_list\u001b[0m\u001b[1;33m(\u001b[0m\u001b[0mbatch_outs\u001b[0m\u001b[1;33m)\u001b[0m\u001b[1;33m\u001b[0m\u001b[1;33m\u001b[0m\u001b[0m\n\u001b[0;32m    326\u001b[0m             \u001b[1;32mif\u001b[0m \u001b[0mbatch_index\u001b[0m \u001b[1;33m==\u001b[0m \u001b[1;36m0\u001b[0m\u001b[1;33m:\u001b[0m\u001b[1;33m\u001b[0m\u001b[1;33m\u001b[0m\u001b[0m\n",
      "\u001b[1;32mC:\\ProgramData\\Anaconda3\\lib\\site-packages\\tensorflow_core\\python\\keras\\backend.py\u001b[0m in \u001b[0;36m__call__\u001b[1;34m(self, inputs)\u001b[0m\n\u001b[0;32m   3725\u001b[0m         \u001b[0mvalue\u001b[0m \u001b[1;33m=\u001b[0m \u001b[0mmath_ops\u001b[0m\u001b[1;33m.\u001b[0m\u001b[0mcast\u001b[0m\u001b[1;33m(\u001b[0m\u001b[0mvalue\u001b[0m\u001b[1;33m,\u001b[0m \u001b[0mtensor\u001b[0m\u001b[1;33m.\u001b[0m\u001b[0mdtype\u001b[0m\u001b[1;33m)\u001b[0m\u001b[1;33m\u001b[0m\u001b[1;33m\u001b[0m\u001b[0m\n\u001b[0;32m   3726\u001b[0m       \u001b[0mconverted_inputs\u001b[0m\u001b[1;33m.\u001b[0m\u001b[0mappend\u001b[0m\u001b[1;33m(\u001b[0m\u001b[0mvalue\u001b[0m\u001b[1;33m)\u001b[0m\u001b[1;33m\u001b[0m\u001b[1;33m\u001b[0m\u001b[0m\n\u001b[1;32m-> 3727\u001b[1;33m     \u001b[0moutputs\u001b[0m \u001b[1;33m=\u001b[0m \u001b[0mself\u001b[0m\u001b[1;33m.\u001b[0m\u001b[0m_graph_fn\u001b[0m\u001b[1;33m(\u001b[0m\u001b[1;33m*\u001b[0m\u001b[0mconverted_inputs\u001b[0m\u001b[1;33m)\u001b[0m\u001b[1;33m\u001b[0m\u001b[1;33m\u001b[0m\u001b[0m\n\u001b[0m\u001b[0;32m   3728\u001b[0m \u001b[1;33m\u001b[0m\u001b[0m\n\u001b[0;32m   3729\u001b[0m     \u001b[1;31m# EagerTensor.numpy() will often make a copy to ensure memory safety.\u001b[0m\u001b[1;33m\u001b[0m\u001b[1;33m\u001b[0m\u001b[1;33m\u001b[0m\u001b[0m\n",
      "\u001b[1;32mC:\\ProgramData\\Anaconda3\\lib\\site-packages\\tensorflow_core\\python\\eager\\function.py\u001b[0m in \u001b[0;36m__call__\u001b[1;34m(self, *args, **kwargs)\u001b[0m\n\u001b[0;32m   1549\u001b[0m       \u001b[0mTypeError\u001b[0m\u001b[1;33m:\u001b[0m \u001b[0mFor\u001b[0m \u001b[0minvalid\u001b[0m \u001b[0mpositional\u001b[0m\u001b[1;33m/\u001b[0m\u001b[0mkeyword\u001b[0m \u001b[0margument\u001b[0m \u001b[0mcombinations\u001b[0m\u001b[1;33m.\u001b[0m\u001b[1;33m\u001b[0m\u001b[1;33m\u001b[0m\u001b[0m\n\u001b[0;32m   1550\u001b[0m     \"\"\"\n\u001b[1;32m-> 1551\u001b[1;33m     \u001b[1;32mreturn\u001b[0m \u001b[0mself\u001b[0m\u001b[1;33m.\u001b[0m\u001b[0m_call_impl\u001b[0m\u001b[1;33m(\u001b[0m\u001b[0margs\u001b[0m\u001b[1;33m,\u001b[0m \u001b[0mkwargs\u001b[0m\u001b[1;33m)\u001b[0m\u001b[1;33m\u001b[0m\u001b[1;33m\u001b[0m\u001b[0m\n\u001b[0m\u001b[0;32m   1552\u001b[0m \u001b[1;33m\u001b[0m\u001b[0m\n\u001b[0;32m   1553\u001b[0m   \u001b[1;32mdef\u001b[0m \u001b[0m_call_impl\u001b[0m\u001b[1;33m(\u001b[0m\u001b[0mself\u001b[0m\u001b[1;33m,\u001b[0m \u001b[0margs\u001b[0m\u001b[1;33m,\u001b[0m \u001b[0mkwargs\u001b[0m\u001b[1;33m,\u001b[0m \u001b[0mcancellation_manager\u001b[0m\u001b[1;33m=\u001b[0m\u001b[1;32mNone\u001b[0m\u001b[1;33m)\u001b[0m\u001b[1;33m:\u001b[0m\u001b[1;33m\u001b[0m\u001b[1;33m\u001b[0m\u001b[0m\n",
      "\u001b[1;32mC:\\ProgramData\\Anaconda3\\lib\\site-packages\\tensorflow_core\\python\\eager\\function.py\u001b[0m in \u001b[0;36m_call_impl\u001b[1;34m(self, args, kwargs, cancellation_manager)\u001b[0m\n\u001b[0;32m   1589\u001b[0m       raise TypeError(\"Keyword arguments {} unknown. Expected {}.\".format(\n\u001b[0;32m   1590\u001b[0m           list(kwargs.keys()), list(self._arg_keywords)))\n\u001b[1;32m-> 1591\u001b[1;33m     \u001b[1;32mreturn\u001b[0m \u001b[0mself\u001b[0m\u001b[1;33m.\u001b[0m\u001b[0m_call_flat\u001b[0m\u001b[1;33m(\u001b[0m\u001b[0margs\u001b[0m\u001b[1;33m,\u001b[0m \u001b[0mself\u001b[0m\u001b[1;33m.\u001b[0m\u001b[0mcaptured_inputs\u001b[0m\u001b[1;33m,\u001b[0m \u001b[0mcancellation_manager\u001b[0m\u001b[1;33m)\u001b[0m\u001b[1;33m\u001b[0m\u001b[1;33m\u001b[0m\u001b[0m\n\u001b[0m\u001b[0;32m   1592\u001b[0m \u001b[1;33m\u001b[0m\u001b[0m\n\u001b[0;32m   1593\u001b[0m   \u001b[1;32mdef\u001b[0m \u001b[0m_filtered_call\u001b[0m\u001b[1;33m(\u001b[0m\u001b[0mself\u001b[0m\u001b[1;33m,\u001b[0m \u001b[0margs\u001b[0m\u001b[1;33m,\u001b[0m \u001b[0mkwargs\u001b[0m\u001b[1;33m)\u001b[0m\u001b[1;33m:\u001b[0m\u001b[1;33m\u001b[0m\u001b[1;33m\u001b[0m\u001b[0m\n",
      "\u001b[1;32mC:\\ProgramData\\Anaconda3\\lib\\site-packages\\tensorflow_core\\python\\eager\\function.py\u001b[0m in \u001b[0;36m_call_flat\u001b[1;34m(self, args, captured_inputs, cancellation_manager)\u001b[0m\n\u001b[0;32m   1690\u001b[0m       \u001b[1;31m# No tape is watching; skip to running the function.\u001b[0m\u001b[1;33m\u001b[0m\u001b[1;33m\u001b[0m\u001b[1;33m\u001b[0m\u001b[0m\n\u001b[0;32m   1691\u001b[0m       return self._build_call_outputs(self._inference_function.call(\n\u001b[1;32m-> 1692\u001b[1;33m           ctx, args, cancellation_manager=cancellation_manager))\n\u001b[0m\u001b[0;32m   1693\u001b[0m     forward_backward = self._select_forward_and_backward_functions(\n\u001b[0;32m   1694\u001b[0m         \u001b[0margs\u001b[0m\u001b[1;33m,\u001b[0m\u001b[1;33m\u001b[0m\u001b[1;33m\u001b[0m\u001b[0m\n",
      "\u001b[1;32mC:\\ProgramData\\Anaconda3\\lib\\site-packages\\tensorflow_core\\python\\eager\\function.py\u001b[0m in \u001b[0;36mcall\u001b[1;34m(self, ctx, args, cancellation_manager)\u001b[0m\n\u001b[0;32m    543\u001b[0m               \u001b[0minputs\u001b[0m\u001b[1;33m=\u001b[0m\u001b[0margs\u001b[0m\u001b[1;33m,\u001b[0m\u001b[1;33m\u001b[0m\u001b[1;33m\u001b[0m\u001b[0m\n\u001b[0;32m    544\u001b[0m               \u001b[0mattrs\u001b[0m\u001b[1;33m=\u001b[0m\u001b[1;33m(\u001b[0m\u001b[1;34m\"executor_type\"\u001b[0m\u001b[1;33m,\u001b[0m \u001b[0mexecutor_type\u001b[0m\u001b[1;33m,\u001b[0m \u001b[1;34m\"config_proto\"\u001b[0m\u001b[1;33m,\u001b[0m \u001b[0mconfig\u001b[0m\u001b[1;33m)\u001b[0m\u001b[1;33m,\u001b[0m\u001b[1;33m\u001b[0m\u001b[1;33m\u001b[0m\u001b[0m\n\u001b[1;32m--> 545\u001b[1;33m               ctx=ctx)\n\u001b[0m\u001b[0;32m    546\u001b[0m         \u001b[1;32melse\u001b[0m\u001b[1;33m:\u001b[0m\u001b[1;33m\u001b[0m\u001b[1;33m\u001b[0m\u001b[0m\n\u001b[0;32m    547\u001b[0m           outputs = execute.execute_with_cancellation(\n",
      "\u001b[1;32mC:\\ProgramData\\Anaconda3\\lib\\site-packages\\tensorflow_core\\python\\eager\\execute.py\u001b[0m in \u001b[0;36mquick_execute\u001b[1;34m(op_name, num_outputs, inputs, attrs, ctx, name)\u001b[0m\n\u001b[0;32m     59\u001b[0m     tensors = pywrap_tensorflow.TFE_Py_Execute(ctx._handle, device_name,\n\u001b[0;32m     60\u001b[0m                                                \u001b[0mop_name\u001b[0m\u001b[1;33m,\u001b[0m \u001b[0minputs\u001b[0m\u001b[1;33m,\u001b[0m \u001b[0mattrs\u001b[0m\u001b[1;33m,\u001b[0m\u001b[1;33m\u001b[0m\u001b[1;33m\u001b[0m\u001b[0m\n\u001b[1;32m---> 61\u001b[1;33m                                                num_outputs)\n\u001b[0m\u001b[0;32m     62\u001b[0m   \u001b[1;32mexcept\u001b[0m \u001b[0mcore\u001b[0m\u001b[1;33m.\u001b[0m\u001b[0m_NotOkStatusException\u001b[0m \u001b[1;32mas\u001b[0m \u001b[0me\u001b[0m\u001b[1;33m:\u001b[0m\u001b[1;33m\u001b[0m\u001b[1;33m\u001b[0m\u001b[0m\n\u001b[0;32m     63\u001b[0m     \u001b[1;32mif\u001b[0m \u001b[0mname\u001b[0m \u001b[1;32mis\u001b[0m \u001b[1;32mnot\u001b[0m \u001b[1;32mNone\u001b[0m\u001b[1;33m:\u001b[0m\u001b[1;33m\u001b[0m\u001b[1;33m\u001b[0m\u001b[0m\n",
      "\u001b[1;31mKeyboardInterrupt\u001b[0m: "
     ]
    }
   ],
   "source": [
    "model = build_model(maze)\n",
    "qtrain(model, maze, epochs=1000, max_memory=8*maze.size, data_size=32)"
   ]
  },
  {
   "cell_type": "markdown",
   "metadata": {},
   "source": [
    "This cell will check to see if the model passes the completion check. Note: This could take several minutes."
   ]
  },
  {
   "cell_type": "code",
   "execution_count": 24,
   "metadata": {},
   "outputs": [
    {
     "data": {
      "text/plain": [
       "<matplotlib.image.AxesImage at 0x2f4c5310948>"
      ]
     },
     "execution_count": 24,
     "metadata": {},
     "output_type": "execute_result"
    },
    {
     "data": {
      "image/png": "[encoded data removed]",
      "text/plain": [
       "<Figure size 432x288 with 1 Axes>"
      ]
     },
     "metadata": {
      "needs_background": "light"
     },
     "output_type": "display_data"
    }
   ],
   "source": [
    "completion_check(model, qmaze)\n",
    "show(qmaze)"
   ]
  },
  {
   "cell_type": "markdown",
   "metadata": {},
   "source": [
    "This cell will test your model for one game. It will start the pirate at the top-left corner and run play_game. The agent should find a path from the starting position to the target (treasure). The treasure is located in the bottom-right corner."
   ]
  },
  {
   "cell_type": "code",
   "execution_count": 25,
   "metadata": {},
   "outputs": [
    {
     "data": {
      "text/plain": [
       "<matplotlib.image.AxesImage at 0x2f4c536cb88>"
      ]
     },
     "execution_count": 25,
     "metadata": {},
     "output_type": "execute_result"
    },
    {
     "data": {
      "image/png": "[encoded data removed]",
      "text/plain": [
       "<Figure size 432x288 with 1 Axes>"
      ]
     },
     "metadata": {
      "needs_background": "light"
     },
     "output_type": "display_data"
    }
   ],
   "source": [
    "pirate_start = (0, 0)\n",
    "play_game(model, qmaze, pirate_start)\n",
    "show(qmaze)"
   ]
  },
  {
   "cell_type": "markdown",
   "metadata": {},
   "source": [
    "## Save and Submit Your Work\n",
    "After you have finished creating the code for your notebook, save your work. Make sure that your notebook contains your name in the filename (e.g. Doe_Jane_ProjectTwo.ipynb). This will help your instructor access and grade your work easily. Download a copy of your IPYNB file and submit it to Brightspace. Refer to the Jupyter Notebook in Apporto Tutorial if you need help with these tasks."
   ]
  }
 ],
 "metadata": {
  "kernelspec": {
   "display_name": "Python 3",
   "language": "python",
   "name": "python3"
  },
  "language_info": {
   "codemirror_mode": {
    "name": "ipython",
    "version": 3
   },
   "file_extension": ".py",
   "mimetype": "text/x-python",
   "name": "python",
   "nbconvert_exporter": "python",
   "pygments_lexer": "ipython3",
   "version": "3.7.4"
  }
 },
 "nbformat": 4,
 "nbformat_minor": 2
}
